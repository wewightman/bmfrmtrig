{
 "cells": [
  {
   "cell_type": "code",
   "execution_count": 6,
   "metadata": {},
   "outputs": [],
   "source": [
    "import numpy as np\n",
    "import PWBeamformer as pwb\n",
    "import matplotlib.pyplot as plt\n",
    "import trig"
   ]
  },
  {
   "cell_type": "code",
   "execution_count": 7,
   "metadata": {},
   "outputs": [],
   "source": [
    "na = 11\n",
    "nele = 128\n",
    "dele = 0.298E-3"
   ]
  },
  {
   "cell_type": "code",
   "execution_count": 8,
   "metadata": {},
   "outputs": [],
   "source": [
    "dx = dele\n",
    "xmin = -10E-3\n",
    "xmax = 10E-3\n",
    "dy = 2E-3\n",
    "ymin = 0E-3\n",
    "ymax = 0E-3\n",
    "dz = 150E-6/4\n",
    "zmin = 1E-3\n",
    "zmax = 40E-3\n",
    "\n",
    "xfield = np.arange(xmin, xmax, dx)\n",
    "yfield = 0\n",
    "zfield = np.arange(zmin, zmax, dz)\n",
    "Xfield, Yfield, Zfield = np.meshgrid(xfield, yfield, zfield)\n",
    "field = np.array([Xfield.flatten(), Yfield.flatten(), Zfield.flatten()]).T\n",
    "\n",
    "xele = dele * (np.arange(nele) - (nele-1)/2)\n",
    "yele = 0\n",
    "zele = 0\n",
    "Xele, Yele, Zele = np.meshgrid(xele, yele, zele)\n",
    "eles = np.array([Xele.flatten(), Yele.flatten(), Zele.flatten()]).T"
   ]
  },
  {
   "cell_type": "code",
   "execution_count": 9,
   "metadata": {},
   "outputs": [],
   "source": [
    "params = {}\n",
    "params['points'] = field\n",
    "params['c'] = 1540\n",
    "params['fnum'] = 1\n",
    "params['alphas'] = np.repeat(np.linspace(-np.pi/8, np.pi/8, na), nele)\n",
    "params['trefs']  = np.zeros(params['alphas'].shape)\n",
    "params['refs'] = np.tile(eles, (na, 1))\n",
    "params['ts'] = 1E-7\n",
    "params['tstart'] = 0\n",
    "params['nsamp'] = 1500"
   ]
  },
  {
   "cell_type": "code",
   "execution_count": 10,
   "metadata": {},
   "outputs": [
    {
     "name": "stdout",
     "output_type": "stream",
     "text": [
      "Initializing a PWBeamformer...\n",
      "  Formatting input parameters...\n",
      "  Putting shared values...\n",
      "    Allocating trefs...\n",
      "    Allocating points...\n",
      "    Allocating tinds...\n",
      "    Allocating masks...\n",
      "    Allocating databuffer...\n",
      "  Registering beamformer with global indexes\n",
      "  Filling tables\n",
      "    Generating masks\n",
      "    Generating Transmission Tabs\n"
     ]
    }
   ],
   "source": [
    "bmfrm = pwb.PWBeamformer(**params)"
   ]
  },
  {
   "cell_type": "code",
   "execution_count": null,
   "metadata": {},
   "outputs": [],
   "source": []
  }
 ],
 "metadata": {
  "kernelspec": {
   "display_name": "beamformer",
   "language": "python",
   "name": "python3"
  },
  "language_info": {
   "codemirror_mode": {
    "name": "ipython",
    "version": 3
   },
   "file_extension": ".py",
   "mimetype": "text/x-python",
   "name": "python",
   "nbconvert_exporter": "python",
   "pygments_lexer": "ipython3",
   "version": "3.11.2"
  },
  "orig_nbformat": 4
 },
 "nbformat": 4,
 "nbformat_minor": 2
}
