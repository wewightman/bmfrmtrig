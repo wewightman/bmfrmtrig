{
 "cells": [
  {
   "cell_type": "code",
   "execution_count": 1,
   "metadata": {},
   "outputs": [],
   "source": [
    "import numpy as np\n",
    "import PWBeamformer as pwb\n",
    "import matplotlib.pyplot as plt\n",
    "import trig"
   ]
  },
  {
   "cell_type": "code",
   "execution_count": 2,
   "metadata": {},
   "outputs": [],
   "source": [
    "dx = 0.1E-3\n",
    "xmin = -10E-3\n",
    "xmax = 10E-3\n",
    "dy = 2E-3\n",
    "ymin = 0E-3\n",
    "ymax = 0E-3\n",
    "dz = 0.06E-3\n",
    "zmin = 1E-3\n",
    "zmax = 11E-3\n",
    "\n",
    "xfield = np.arange(xmin, xmax, dx)\n",
    "yfield = 0\n",
    "zfield = np.arange(zmin, zmax, dz)\n",
    "Xfield, Yfield, Zfield = np.meshgrid(xfield, yfield, zfield)\n",
    "field = np.array([Xfield.flatten(), Yfield.flatten(), Zfield.flatten()]).T"
   ]
  },
  {
   "cell_type": "code",
   "execution_count": 3,
   "metadata": {},
   "outputs": [],
   "source": [
    "na = 11\n",
    "nele = 128\n",
    "\n",
    "params = {}\n",
    "params['points'] = field\n",
    "params['c'] = 1540\n",
    "params['fnum'] = 1\n",
    "params['alphas'] = np.repeat(np.linspace(-np.pi/8, np.pi/8, na), nele)\n",
    "params['trefs']  = np.zeros(params['alphas'].shape)\n",
    "params['refs'] = np.tile(1E-3 * np.array([[-5, 0, 0],[5, 0, 0]]), (na, 1))\n",
    "params['ts'] = 1E-7\n",
    "params['tstart'] = 0\n",
    "params['nsamp'] = 1500"
   ]
  },
  {
   "cell_type": "code",
   "execution_count": 4,
   "metadata": {},
   "outputs": [],
   "source": [
    "bmfrm = pwb.PWBeamformer(**params)"
   ]
  },
  {
   "cell_type": "code",
   "execution_count": 6,
   "metadata": {},
   "outputs": [
    {
     "data": {
      "text/plain": [
       "(33400, 3)"
      ]
     },
     "execution_count": 6,
     "metadata": {},
     "output_type": "execute_result"
    }
   ],
   "source": []
  }
 ],
 "metadata": {
  "kernelspec": {
   "display_name": "beamformer",
   "language": "python",
   "name": "python3"
  },
  "language_info": {
   "codemirror_mode": {
    "name": "ipython",
    "version": 3
   },
   "file_extension": ".py",
   "mimetype": "text/x-python",
   "name": "python",
   "nbconvert_exporter": "python",
   "pygments_lexer": "ipython3",
   "version": "3.11.2"
  },
  "orig_nbformat": 4
 },
 "nbformat": 4,
 "nbformat_minor": 2
}
